{
 "cells": [
  {
   "cell_type": "code",
   "execution_count": null,
   "id": "f104d27d",
   "metadata": {},
   "outputs": [],
   "source": [
    "pip install s3fs"
   ]
  },
  {
   "cell_type": "code",
   "execution_count": null,
   "id": "90474ff3",
   "metadata": {},
   "outputs": [],
   "source": [
    "import pandas as pd\n",
    "from kafka import KafkaConsumer\n",
    "from time import sleep\n",
    "from json import dumps, loads\n",
    "import json\n",
    "from s3fs import S3FileSystem"
   ]
  },
  {
   "cell_type": "markdown",
   "id": "28b8286f",
   "metadata": {},
   "source": [
    "En esta parte creamos nuestro consumer que va a ser donde van a llegar los diferentes datos que en tiempo real a partir de esto vamos a guardar estos .json en un bucket S3 de aws para despues utilizar Crawler y Athenas, para mostrar los datos que se estan recibiendo"
   ]
  },
  {
   "cell_type": "code",
   "execution_count": null,
   "id": "a2de622a",
   "metadata": {},
   "outputs": [],
   "source": [
    "consumer = KafkaConsumer('demo_test', \n",
    "                         bootstrap_servers=[\"{ip_public_in_the_aws}:9092\"],\n",
    "                        value_deserializer=lambda x : loads(x.decode('utf-8')))"
   ]
  },
  {
   "cell_type": "code",
   "execution_count": null,
   "id": "52442516",
   "metadata": {},
   "outputs": [],
   "source": [
    "#for c in consumer : \n",
    "#    print(c.value)"
   ]
  },
  {
   "cell_type": "code",
   "execution_count": null,
   "id": "f96b6a75",
   "metadata": {},
   "outputs": [],
   "source": [
    "s3 = S3FileSystem()"
   ]
  },
  {
   "cell_type": "markdown",
   "id": "dffebb71",
   "metadata": {},
   "source": [
    "##### Acá es donde pasa la magia para escribir datos en el bucket que hemos creados anteriormente en s3"
   ]
  },
  {
   "cell_type": "code",
   "execution_count": null,
   "id": "0dff2ab6",
   "metadata": {
    "scrolled": true
   },
   "outputs": [],
   "source": [
    "  for count, i in enumerate(consumer):\n",
    "        with s3.open(f\"s3://name_bucket/stock_market_{count}.json\", 'w') as file :\n",
    "            json.dump(i.value, file)"
   ]
  },
  {
   "cell_type": "code",
   "execution_count": null,
   "id": "979f45e7",
   "metadata": {},
   "outputs": [],
   "source": []
  },
  {
   "cell_type": "code",
   "execution_count": null,
   "id": "b7d2e9e8",
   "metadata": {},
   "outputs": [],
   "source": []
  }
 ],
 "metadata": {
  "kernelspec": {
   "display_name": "Python 3 (ipykernel)",
   "language": "python",
   "name": "python3"
  },
  "language_info": {
   "codemirror_mode": {
    "name": "ipython",
    "version": 3
   },
   "file_extension": ".py",
   "mimetype": "text/x-python",
   "name": "python",
   "nbconvert_exporter": "python",
   "pygments_lexer": "ipython3",
   "version": "3.9.13"
  }
 },
 "nbformat": 4,
 "nbformat_minor": 5
}
